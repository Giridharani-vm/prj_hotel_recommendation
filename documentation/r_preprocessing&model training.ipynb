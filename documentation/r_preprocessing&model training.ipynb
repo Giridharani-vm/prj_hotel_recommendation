{
 "cells": [
  {
   "cell_type": "code",
   "execution_count": 5,
   "id": "47ede7e3",
   "metadata": {},
   "outputs": [],
   "source": [
    "from sklearn.preprocessing import OneHotEncoder, StandardScaler\n",
    "from sklearn.compose import ColumnTransformer\n",
    "from sklearn.pipeline import Pipeline\n",
    "import pandas as pd\n",
    "import joblib"
   ]
  },
  {
   "cell_type": "code",
   "execution_count": 8,
   "id": "1691f880",
   "metadata": {},
   "outputs": [
    {
     "data": {
      "text/html": [
       "<div>\n",
       "<style scoped>\n",
       "    .dataframe tbody tr th:only-of-type {\n",
       "        vertical-align: middle;\n",
       "    }\n",
       "\n",
       "    .dataframe tbody tr th {\n",
       "        vertical-align: top;\n",
       "    }\n",
       "\n",
       "    .dataframe thead th {\n",
       "        text-align: right;\n",
       "    }\n",
       "</style>\n",
       "<table border=\"1\" class=\"dataframe\">\n",
       "  <thead>\n",
       "    <tr style=\"text-align: right;\">\n",
       "      <th></th>\n",
       "      <th>ID.No</th>\n",
       "      <th>NAME</th>\n",
       "      <th>CITY</th>\n",
       "      <th>RATING</th>\n",
       "      <th>Rating_Count</th>\n",
       "      <th>COST</th>\n",
       "      <th>CUISINE</th>\n",
       "      <th>License_No</th>\n",
       "      <th>LINK</th>\n",
       "      <th>ADDRESS</th>\n",
       "      <th>MENU</th>\n",
       "    </tr>\n",
       "  </thead>\n",
       "  <tbody>\n",
       "    <tr>\n",
       "      <th>0</th>\n",
       "      <td>567335</td>\n",
       "      <td>Ab foods point</td>\n",
       "      <td>Abohar</td>\n",
       "      <td>0.0</td>\n",
       "      <td>5</td>\n",
       "      <td>200.0</td>\n",
       "      <td>Beverages,Pizzas</td>\n",
       "      <td>22122652000138</td>\n",
       "      <td>https://www.swiggy.com/restaurants/ab-foods-po...</td>\n",
       "      <td>Ab Foods Point, Near Rishi Narang Dental Clini...</td>\n",
       "      <td>Menu/567335.json</td>\n",
       "    </tr>\n",
       "    <tr>\n",
       "      <th>1</th>\n",
       "      <td>531342</td>\n",
       "      <td>Janta sweet house</td>\n",
       "      <td>Abohar</td>\n",
       "      <td>4.4</td>\n",
       "      <td>50</td>\n",
       "      <td>200.0</td>\n",
       "      <td>Sweets,Bakery</td>\n",
       "      <td>12117201000112</td>\n",
       "      <td>https://www.swiggy.com/restaurants/janta-sweet...</td>\n",
       "      <td>Janta Sweet House, Bazar No.9, Circullar Road,...</td>\n",
       "      <td>Menu/531342.json</td>\n",
       "    </tr>\n",
       "    <tr>\n",
       "      <th>2</th>\n",
       "      <td>158203</td>\n",
       "      <td>Theka coffee desi</td>\n",
       "      <td>Abohar</td>\n",
       "      <td>3.8</td>\n",
       "      <td>100</td>\n",
       "      <td>100.0</td>\n",
       "      <td>Beverages</td>\n",
       "      <td>22121652000190</td>\n",
       "      <td>https://www.swiggy.com/restaurants/theka-coffe...</td>\n",
       "      <td>Theka Coffee Desi, Sahtiya Sadan Road City</td>\n",
       "      <td>Menu/158203.json</td>\n",
       "    </tr>\n",
       "    <tr>\n",
       "      <th>3</th>\n",
       "      <td>187912</td>\n",
       "      <td>Singh hut</td>\n",
       "      <td>Abohar</td>\n",
       "      <td>3.7</td>\n",
       "      <td>20</td>\n",
       "      <td>250.0</td>\n",
       "      <td>Fast Food,Indian</td>\n",
       "      <td>22119652000167</td>\n",
       "      <td>https://www.swiggy.com/restaurants/singh-hut-n...</td>\n",
       "      <td>Singh Hut, Circular Road Near Nehru Park Abohar</td>\n",
       "      <td>Menu/187912.json</td>\n",
       "    </tr>\n",
       "    <tr>\n",
       "      <th>4</th>\n",
       "      <td>543530</td>\n",
       "      <td>Grill masters</td>\n",
       "      <td>Abohar</td>\n",
       "      <td>0.0</td>\n",
       "      <td>5</td>\n",
       "      <td>250.0</td>\n",
       "      <td>Italian-American,Fast Food</td>\n",
       "      <td>12122201000053</td>\n",
       "      <td>https://www.swiggy.com/restaurants/grill-maste...</td>\n",
       "      <td>Grill Masters, Ada Heights, Abohar - Hanumanga...</td>\n",
       "      <td>Menu/543530.json</td>\n",
       "    </tr>\n",
       "  </tbody>\n",
       "</table>\n",
       "</div>"
      ],
      "text/plain": [
       "    ID.No               NAME    CITY  RATING  Rating_Count   COST  \\\n",
       "0  567335     Ab foods point  Abohar     0.0             5  200.0   \n",
       "1  531342  Janta sweet house  Abohar     4.4            50  200.0   \n",
       "2  158203  Theka coffee desi  Abohar     3.8           100  100.0   \n",
       "3  187912          Singh hut  Abohar     3.7            20  250.0   \n",
       "4  543530      Grill masters  Abohar     0.0             5  250.0   \n",
       "\n",
       "                      CUISINE      License_No  \\\n",
       "0            Beverages,Pizzas  22122652000138   \n",
       "1               Sweets,Bakery  12117201000112   \n",
       "2                   Beverages  22121652000190   \n",
       "3            Fast Food,Indian  22119652000167   \n",
       "4  Italian-American,Fast Food  12122201000053   \n",
       "\n",
       "                                                LINK  \\\n",
       "0  https://www.swiggy.com/restaurants/ab-foods-po...   \n",
       "1  https://www.swiggy.com/restaurants/janta-sweet...   \n",
       "2  https://www.swiggy.com/restaurants/theka-coffe...   \n",
       "3  https://www.swiggy.com/restaurants/singh-hut-n...   \n",
       "4  https://www.swiggy.com/restaurants/grill-maste...   \n",
       "\n",
       "                                             ADDRESS              MENU  \n",
       "0  Ab Foods Point, Near Rishi Narang Dental Clini...  Menu/567335.json  \n",
       "1  Janta Sweet House, Bazar No.9, Circullar Road,...  Menu/531342.json  \n",
       "2         Theka Coffee Desi, Sahtiya Sadan Road City  Menu/158203.json  \n",
       "3    Singh Hut, Circular Road Near Nehru Park Abohar  Menu/187912.json  \n",
       "4  Grill Masters, Ada Heights, Abohar - Hanumanga...  Menu/543530.json  "
      ]
     },
     "execution_count": 8,
     "metadata": {},
     "output_type": "execute_result"
    }
   ],
   "source": [
    "df = pd.read_csv(r\"C:\\DATA SCIENCE\\PROJECT FOLDERS\\prj_restaurant_recommendation\\final_df.csv\")\n",
    "df.head()"
   ]
  },
  {
   "cell_type": "code",
   "execution_count": 10,
   "id": "cb1a47cf",
   "metadata": {},
   "outputs": [
    {
     "data": {
      "text/html": [
       "<div>\n",
       "<style scoped>\n",
       "    .dataframe tbody tr th:only-of-type {\n",
       "        vertical-align: middle;\n",
       "    }\n",
       "\n",
       "    .dataframe tbody tr th {\n",
       "        vertical-align: top;\n",
       "    }\n",
       "\n",
       "    .dataframe thead th {\n",
       "        text-align: right;\n",
       "    }\n",
       "</style>\n",
       "<table border=\"1\" class=\"dataframe\">\n",
       "  <thead>\n",
       "    <tr style=\"text-align: right;\">\n",
       "      <th></th>\n",
       "      <th>ID.No</th>\n",
       "      <th>NAME</th>\n",
       "      <th>CITY</th>\n",
       "      <th>RATING</th>\n",
       "      <th>Rating_Count</th>\n",
       "      <th>COST</th>\n",
       "      <th>CUISINE</th>\n",
       "      <th>License_No</th>\n",
       "      <th>LINK</th>\n",
       "      <th>ADDRESS</th>\n",
       "      <th>MENU</th>\n",
       "    </tr>\n",
       "  </thead>\n",
       "  <tbody>\n",
       "    <tr>\n",
       "      <th>0</th>\n",
       "      <td>567335</td>\n",
       "      <td>Ab foods point</td>\n",
       "      <td>abohar</td>\n",
       "      <td>0.0</td>\n",
       "      <td>5</td>\n",
       "      <td>200.0</td>\n",
       "      <td>beverages,pizzas</td>\n",
       "      <td>22122652000138</td>\n",
       "      <td>https://www.swiggy.com/restaurants/ab-foods-po...</td>\n",
       "      <td>Ab Foods Point, Near Rishi Narang Dental Clini...</td>\n",
       "      <td>Menu/567335.json</td>\n",
       "    </tr>\n",
       "    <tr>\n",
       "      <th>1</th>\n",
       "      <td>531342</td>\n",
       "      <td>Janta sweet house</td>\n",
       "      <td>abohar</td>\n",
       "      <td>4.4</td>\n",
       "      <td>50</td>\n",
       "      <td>200.0</td>\n",
       "      <td>sweets,bakery</td>\n",
       "      <td>12117201000112</td>\n",
       "      <td>https://www.swiggy.com/restaurants/janta-sweet...</td>\n",
       "      <td>Janta Sweet House, Bazar No.9, Circullar Road,...</td>\n",
       "      <td>Menu/531342.json</td>\n",
       "    </tr>\n",
       "    <tr>\n",
       "      <th>2</th>\n",
       "      <td>158203</td>\n",
       "      <td>Theka coffee desi</td>\n",
       "      <td>abohar</td>\n",
       "      <td>3.8</td>\n",
       "      <td>100</td>\n",
       "      <td>100.0</td>\n",
       "      <td>beverages</td>\n",
       "      <td>22121652000190</td>\n",
       "      <td>https://www.swiggy.com/restaurants/theka-coffe...</td>\n",
       "      <td>Theka Coffee Desi, Sahtiya Sadan Road City</td>\n",
       "      <td>Menu/158203.json</td>\n",
       "    </tr>\n",
       "    <tr>\n",
       "      <th>3</th>\n",
       "      <td>187912</td>\n",
       "      <td>Singh hut</td>\n",
       "      <td>abohar</td>\n",
       "      <td>3.7</td>\n",
       "      <td>20</td>\n",
       "      <td>250.0</td>\n",
       "      <td>fast food,indian</td>\n",
       "      <td>22119652000167</td>\n",
       "      <td>https://www.swiggy.com/restaurants/singh-hut-n...</td>\n",
       "      <td>Singh Hut, Circular Road Near Nehru Park Abohar</td>\n",
       "      <td>Menu/187912.json</td>\n",
       "    </tr>\n",
       "    <tr>\n",
       "      <th>4</th>\n",
       "      <td>543530</td>\n",
       "      <td>Grill masters</td>\n",
       "      <td>abohar</td>\n",
       "      <td>0.0</td>\n",
       "      <td>5</td>\n",
       "      <td>250.0</td>\n",
       "      <td>italian-american,fast food</td>\n",
       "      <td>12122201000053</td>\n",
       "      <td>https://www.swiggy.com/restaurants/grill-maste...</td>\n",
       "      <td>Grill Masters, Ada Heights, Abohar - Hanumanga...</td>\n",
       "      <td>Menu/543530.json</td>\n",
       "    </tr>\n",
       "  </tbody>\n",
       "</table>\n",
       "</div>"
      ],
      "text/plain": [
       "    ID.No               NAME    CITY  RATING  Rating_Count   COST  \\\n",
       "0  567335     Ab foods point  abohar     0.0             5  200.0   \n",
       "1  531342  Janta sweet house  abohar     4.4            50  200.0   \n",
       "2  158203  Theka coffee desi  abohar     3.8           100  100.0   \n",
       "3  187912          Singh hut  abohar     3.7            20  250.0   \n",
       "4  543530      Grill masters  abohar     0.0             5  250.0   \n",
       "\n",
       "                      CUISINE      License_No  \\\n",
       "0            beverages,pizzas  22122652000138   \n",
       "1               sweets,bakery  12117201000112   \n",
       "2                   beverages  22121652000190   \n",
       "3            fast food,indian  22119652000167   \n",
       "4  italian-american,fast food  12122201000053   \n",
       "\n",
       "                                                LINK  \\\n",
       "0  https://www.swiggy.com/restaurants/ab-foods-po...   \n",
       "1  https://www.swiggy.com/restaurants/janta-sweet...   \n",
       "2  https://www.swiggy.com/restaurants/theka-coffe...   \n",
       "3  https://www.swiggy.com/restaurants/singh-hut-n...   \n",
       "4  https://www.swiggy.com/restaurants/grill-maste...   \n",
       "\n",
       "                                             ADDRESS              MENU  \n",
       "0  Ab Foods Point, Near Rishi Narang Dental Clini...  Menu/567335.json  \n",
       "1  Janta Sweet House, Bazar No.9, Circullar Road,...  Menu/531342.json  \n",
       "2         Theka Coffee Desi, Sahtiya Sadan Road City  Menu/158203.json  \n",
       "3    Singh Hut, Circular Road Near Nehru Park Abohar  Menu/187912.json  \n",
       "4  Grill Masters, Ada Heights, Abohar - Hanumanga...  Menu/543530.json  "
      ]
     },
     "execution_count": 10,
     "metadata": {},
     "output_type": "execute_result"
    }
   ],
   "source": [
    "df.head()"
   ]
  },
  {
   "cell_type": "code",
   "execution_count": 3,
   "id": "0617813b",
   "metadata": {},
   "outputs": [
    {
     "data": {
      "text/plain": [
       "Index(['ID.No', 'NAME', 'CITY', 'RATING', 'Rating_Count', 'COST', 'CUISINE',\n",
       "       'License_No', 'LINK', 'ADDRESS', 'MENU'],\n",
       "      dtype='object')"
      ]
     },
     "execution_count": 3,
     "metadata": {},
     "output_type": "execute_result"
    }
   ],
   "source": [
    "df.columns"
   ]
  },
  {
   "cell_type": "code",
   "execution_count": 9,
   "id": "6400caf6",
   "metadata": {},
   "outputs": [],
   "source": [
    "# Normalize user input\n",
    "df['CITY'] = df['CITY'].str.lower()\n",
    "df['CUISINE'] = df['CUISINE'].str.lower()"
   ]
  },
  {
   "cell_type": "code",
   "execution_count": 14,
   "id": "e12d7286",
   "metadata": {},
   "outputs": [
    {
     "data": {
      "text/plain": [
       "ID.No             int64\n",
       "NAME             object\n",
       "CITY             object\n",
       "RATING          float64\n",
       "Rating_Count      int64\n",
       "COST            float64\n",
       "CUISINE          object\n",
       "License_No       object\n",
       "LINK             object\n",
       "ADDRESS          object\n",
       "MENU             object\n",
       "cluster           int32\n",
       "dtype: object"
      ]
     },
     "execution_count": 14,
     "metadata": {},
     "output_type": "execute_result"
    }
   ],
   "source": [
    "df.dtypes"
   ]
  },
  {
   "cell_type": "markdown",
   "id": "baf3e79b",
   "metadata": {},
   "source": [
    "PREPROCESSING"
   ]
  },
  {
   "cell_type": "code",
   "execution_count": 11,
   "id": "636f16e8",
   "metadata": {},
   "outputs": [],
   "source": [
    "# Import Libraries\n",
    "import pandas as pd\n",
    "from sklearn.compose import ColumnTransformer\n",
    "from sklearn.preprocessing import StandardScaler, OneHotEncoder\n",
    "from sklearn.decomposition import TruncatedSVD\n",
    "from sklearn.cluster import KMeans\n",
    "import joblib\n",
    "\n",
    "\n",
    "\n",
    "# Step 2: Define Columns\n",
    "num_cols = ['RATING', 'Rating_Count', 'COST']\n",
    "cat_cols = ['NAME', 'CITY','CUISINE']\n",
    "\n",
    "# Step 3: Preprocessing Pipeline\n",
    "preprocessor = ColumnTransformer([\n",
    "    ('num', StandardScaler(), num_cols),\n",
    "    ('cat', OneHotEncoder(handle_unknown='ignore', sparse_output=True), cat_cols)\n",
    "])\n",
    "\n",
    "# Step 4: Transform Data\n",
    "X_processed = preprocessor.fit_transform(df)\n",
    "\n",
    "from sklearn.impute import SimpleImputer\n",
    "\n",
    "# After preprocessor and before SVD\n",
    "imputer = SimpleImputer(strategy='mean')\n",
    "X_imputed = imputer.fit_transform(X_processed)\n",
    "\n",
    "# Save imputer\n",
    "joblib.dump(imputer, r'C:\\DATA SCIENCE\\PROJECT FOLDERS\\prj_restaurant_recommendation\\imputer.pkl')\n",
    "\n",
    "# Then apply SVD\n",
    "svd = TruncatedSVD(n_components=50, random_state=42)\n",
    "X_reduced = svd.fit_transform(X_imputed)\n",
    "\n",
    "\n",
    "\n"
   ]
  },
  {
   "cell_type": "markdown",
   "id": "f3615c4f",
   "metadata": {},
   "source": [
    "K - MEANS CLUSTERING"
   ]
  },
  {
   "cell_type": "code",
   "execution_count": 12,
   "id": "3589181d",
   "metadata": {},
   "outputs": [
    {
     "name": "stderr",
     "output_type": "stream",
     "text": [
      "<>:14: SyntaxWarning: invalid escape sequence '\\D'\n",
      "<>:14: SyntaxWarning: invalid escape sequence '\\D'\n",
      "C:\\Users\\123\\AppData\\Local\\Temp\\ipykernel_14800\\4101048095.py:14: SyntaxWarning: invalid escape sequence '\\D'\n",
      "  df.to_csv(\"C:\\DATA SCIENCE\\PROJECT FOLDERS\\prj_restaurant_recommendation\\clustered.csv\", index=False)\n"
     ]
    }
   ],
   "source": [
    "# Step 6: Fit KMeans\n",
    "kmeans = KMeans(n_clusters=6, random_state=42)\n",
    "kmeans.fit(X_reduced)\n",
    "\n",
    "# Step 7: Add Cluster Info\n",
    "df['cluster'] = kmeans.labels_\n",
    "\n",
    "# Step 8: Save Preprocessor and Model\n",
    "joblib.dump(preprocessor, r'C:\\DATA SCIENCE\\PROJECT FOLDERS\\prj_restaurant_recommendation\\preprocessor.pkl')\n",
    "joblib.dump(svd, r'C:\\DATA SCIENCE\\PROJECT FOLDERS\\prj_restaurant_recommendation\\svd_model.pkl')\n",
    "joblib.dump(kmeans, r'C:\\DATA SCIENCE\\PROJECT FOLDERS\\prj_restaurant_recommendation\\kmeans_model.pkl')\n",
    "\n",
    "# Step 9: Save Final DataFrame (Optional)\n",
    "df.to_csv(\"C:\\DATA SCIENCE\\PROJECT FOLDERS\\prj_restaurant_recommendation\\clustered.csv\", index=False)\n"
   ]
  },
  {
   "cell_type": "markdown",
   "id": "bc40bf49",
   "metadata": {},
   "source": [
    "ELBOW METHOD"
   ]
  },
  {
   "cell_type": "code",
   "execution_count": 19,
   "id": "6ccc36ec",
   "metadata": {},
   "outputs": [
    {
     "data": {
      "image/png": "[encoded data removed]",
      "text/plain": [
       "<Figure size 800x600 with 1 Axes>"
      ]
     },
     "metadata": {},
     "output_type": "display_data"
    }
   ],
   "source": [
    "import matplotlib.pyplot as plt\n",
    "from sklearn.cluster import KMeans\n",
    "\n",
    "# Step 1: Calculate Inertia for different values of k\n",
    "inertia = []\n",
    "k_range = range(1, 30)  # You can adjust this range based on your dataset\n",
    "\n",
    "for k in k_range:\n",
    "    kmeans = KMeans(n_clusters=k, random_state=42)\n",
    "    kmeans.fit(X_reduced)  # X_reduced is your data after preprocessing and dimensionality reduction\n",
    "    inertia.append(kmeans.inertia_)\n",
    "\n",
    "# Step 2: Plot Elbow graph\n",
    "plt.figure(figsize=(8,6))\n",
    "plt.plot(k_range, inertia, marker='o')\n",
    "plt.title('Elbow Method: Inertia vs. Number of Clusters')\n",
    "plt.xlabel('Number of Clusters (k)')\n",
    "plt.ylabel('Inertia')\n",
    "plt.show()\n"
   ]
  },
  {
   "cell_type": "markdown",
   "id": "0523fb11",
   "metadata": {},
   "source": [
    "SILHOUETTE SCORE VISUALS"
   ]
  },
  {
   "cell_type": "code",
   "execution_count": 29,
   "id": "fff78ad4",
   "metadata": {},
   "outputs": [
    {
     "name": "stdout",
     "output_type": "stream",
     "text": [
      "[np.float64(0.42625117223450326), np.float64(0.4291150166403302), np.float64(0.44733288391457654), np.float64(0.3381145196788299), np.float64(0.294788877844663), np.float64(0.31562912427082296), np.float64(0.3422810722524064), np.float64(0.22286833899750721), np.float64(0.20709966132344967), np.float64(0.2084654715964767), np.float64(0.19339416647835433), np.float64(0.20975509538771114), np.float64(0.1881837294628137), np.float64(0.2006873020284679), np.float64(0.21634476622852206), np.float64(0.2164893769947069), np.float64(0.21634679553474662), np.float64(0.16863898204660888), np.float64(0.21825246338505472), np.float64(0.22896454229026567), np.float64(0.2355286111353453), np.float64(0.20251934638849062), np.float64(0.2139161176075465), np.float64(0.1823901961685338), np.float64(0.2090087679470487), np.float64(0.2043054312761205), np.float64(0.19883958283332936), np.float64(0.2397235291720968)]\n"
     ]
    },
    {
     "data": {
      "image/png": "[encoded data removed]",
      "text/plain": [
       "<Figure size 640x480 with 1 Axes>"
      ]
     },
     "metadata": {},
     "output_type": "display_data"
    }
   ],
   "source": [
    "from sklearn.cluster import KMeans\n",
    "from sklearn.metrics import silhouette_score\n",
    "import matplotlib.pyplot as plt\n",
    "\n",
    "# X_reduced = your reduced dataset\n",
    "\n",
    "silhouette_scores = []\n",
    "cluster_range = range(2, 30)\n",
    "\n",
    "# Use a fixed random sample size (e.g., 1000 points)\n",
    "sample_size = min(1000, len(X_reduced))  # Don't exceed actual data size\n",
    "\n",
    "for k in cluster_range:\n",
    "    kmeans = KMeans(n_clusters=k, init='k-means++', n_init=10, max_iter=300,\n",
    "                    tol=0.0001, random_state=111, algorithm='elkan')\n",
    "    kmeans.fit(X_reduced)\n",
    "    \n",
    "    # Sampled silhouette score (faster)\n",
    "    score = silhouette_score(X_reduced, kmeans.labels_, sample_size=sample_size, random_state=111)\n",
    "    silhouette_scores.append(score)\n",
    "\n",
    "print(silhouette_scores)\n",
    "\n",
    "plt.plot(cluster_range, silhouette_scores, marker='s', linestyle='--', color='r')\n",
    "plt.xlabel('Number of Clusters (k)')\n",
    "plt.ylabel('Silhouette Score')\n",
    "plt.title('Silhouette Score vs. Number of Clusters')\n",
    "plt.tight_layout()\n",
    "plt.show()\n",
    "\n"
   ]
  },
  {
   "cell_type": "code",
   "execution_count": 13,
   "id": "a6ec15ca",
   "metadata": {},
   "outputs": [
    {
     "data": {
      "text/plain": [
       "np.int64(0)"
      ]
     },
     "execution_count": 13,
     "metadata": {},
     "output_type": "execute_result"
    }
   ],
   "source": [
    "df['NAME'].isnull().sum()"
   ]
  }
 ],
 "metadata": {
  "kernelspec": {
   "display_name": "hotel_recommendation",
   "language": "python",
   "name": "python3"
  },
  "language_info": {
   "codemirror_mode": {
    "name": "ipython",
    "version": 3
   },
   "file_extension": ".py",
   "mimetype": "text/x-python",
   "name": "python",
   "nbconvert_exporter": "python",
   "pygments_lexer": "ipython3",
   "version": "3.12.8"
  }
 },
 "nbformat": 4,
 "nbformat_minor": 5
}
