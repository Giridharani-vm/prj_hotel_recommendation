{
 "cells": [
  {
   "cell_type": "code",
   "execution_count": 10,
   "id": "5d8237df",
   "metadata": {},
   "outputs": [],
   "source": [
    "import pandas as pd \n",
    "import numpy as np"
   ]
  },
  {
   "cell_type": "code",
   "execution_count": 137,
   "id": "4507f2bb",
   "metadata": {},
   "outputs": [
    {
     "data": {
      "text/html": [
       "<div>\n",
       "<style scoped>\n",
       "    .dataframe tbody tr th:only-of-type {\n",
       "        vertical-align: middle;\n",
       "    }\n",
       "\n",
       "    .dataframe tbody tr th {\n",
       "        vertical-align: top;\n",
       "    }\n",
       "\n",
       "    .dataframe thead th {\n",
       "        text-align: right;\n",
       "    }\n",
       "</style>\n",
       "<table border=\"1\" class=\"dataframe\">\n",
       "  <thead>\n",
       "    <tr style=\"text-align: right;\">\n",
       "      <th></th>\n",
       "      <th>id</th>\n",
       "      <th>name</th>\n",
       "      <th>city</th>\n",
       "      <th>rating</th>\n",
       "      <th>rating_count</th>\n",
       "      <th>cost</th>\n",
       "      <th>cuisine</th>\n",
       "      <th>lic_no</th>\n",
       "      <th>link</th>\n",
       "      <th>address</th>\n",
       "      <th>menu</th>\n",
       "    </tr>\n",
       "  </thead>\n",
       "  <tbody>\n",
       "    <tr>\n",
       "      <th>148536</th>\n",
       "      <td>553122</td>\n",
       "      <td>The Food Delight</td>\n",
       "      <td>Yavatmal</td>\n",
       "      <td>--</td>\n",
       "      <td>Too Few Ratings</td>\n",
       "      <td>₹ 200</td>\n",
       "      <td>Fast Food,Snacks</td>\n",
       "      <td>21522053000452</td>\n",
       "      <td>https://www.swiggy.com/restaurants/the-food-de...</td>\n",
       "      <td>The Food Delight, 94MC+X35, New Singhania Naga...</td>\n",
       "      <td>Menu/553122.json</td>\n",
       "    </tr>\n",
       "    <tr>\n",
       "      <th>148537</th>\n",
       "      <td>562647</td>\n",
       "      <td>MAITRI FOODS &amp; BEVERAGES</td>\n",
       "      <td>Yavatmal</td>\n",
       "      <td>--</td>\n",
       "      <td>Too Few Ratings</td>\n",
       "      <td>₹ 300</td>\n",
       "      <td>Pizzas</td>\n",
       "      <td>license</td>\n",
       "      <td>https://www.swiggy.com/restaurants/maitri-food...</td>\n",
       "      <td>MAITRI FOODS &amp; BEVERAGES, POLIC MITRYA SOCIETY...</td>\n",
       "      <td>Menu/562647.json</td>\n",
       "    </tr>\n",
       "    <tr>\n",
       "      <th>148538</th>\n",
       "      <td>559435</td>\n",
       "      <td>Cafe Bella Ciao</td>\n",
       "      <td>Yavatmal</td>\n",
       "      <td>--</td>\n",
       "      <td>Too Few Ratings</td>\n",
       "      <td>₹ 300</td>\n",
       "      <td>Fast Food,Snacks</td>\n",
       "      <td>21522251000378</td>\n",
       "      <td>https://www.swiggy.com/restaurants/cafe-bella-...</td>\n",
       "      <td>Cafe Bella Ciao, SHOP NO 2 NEMANI MARKET SBI S...</td>\n",
       "      <td>Menu/559435.json</td>\n",
       "    </tr>\n",
       "    <tr>\n",
       "      <th>148539</th>\n",
       "      <td>418989</td>\n",
       "      <td>GRILL ZILLA</td>\n",
       "      <td>Yavatmal</td>\n",
       "      <td>--</td>\n",
       "      <td>Too Few Ratings</td>\n",
       "      <td>₹ 250</td>\n",
       "      <td>Continental</td>\n",
       "      <td>21521251000241</td>\n",
       "      <td>https://www.swiggy.com/restaurants/grill-zilla...</td>\n",
       "      <td>GRILL ZILLA, SHO NO 2/6, POSTEL GROUND CHOWPAT...</td>\n",
       "      <td>Menu/418989.json</td>\n",
       "    </tr>\n",
       "    <tr>\n",
       "      <th>148540</th>\n",
       "      <td>447770</td>\n",
       "      <td>Lazeez kitchen</td>\n",
       "      <td>Yavatmal</td>\n",
       "      <td>--</td>\n",
       "      <td>Too Few Ratings</td>\n",
       "      <td>₹ 200</td>\n",
       "      <td>Pizzas</td>\n",
       "      <td>21521251000634</td>\n",
       "      <td>https://www.swiggy.com/restaurants/lazeez-kitc...</td>\n",
       "      <td>Lazeez kitchen, 94G3+2RR, Wadgaon, Yavatmal, M...</td>\n",
       "      <td>Menu/447770.json</td>\n",
       "    </tr>\n",
       "  </tbody>\n",
       "</table>\n",
       "</div>"
      ],
      "text/plain": [
       "            id                      name      city rating     rating_count  \\\n",
       "148536  553122          The Food Delight  Yavatmal     --  Too Few Ratings   \n",
       "148537  562647  MAITRI FOODS & BEVERAGES  Yavatmal     --  Too Few Ratings   \n",
       "148538  559435           Cafe Bella Ciao  Yavatmal     --  Too Few Ratings   \n",
       "148539  418989               GRILL ZILLA  Yavatmal     --  Too Few Ratings   \n",
       "148540  447770            Lazeez kitchen  Yavatmal     --  Too Few Ratings   \n",
       "\n",
       "         cost           cuisine          lic_no  \\\n",
       "148536  ₹ 200  Fast Food,Snacks  21522053000452   \n",
       "148537  ₹ 300            Pizzas         license   \n",
       "148538  ₹ 300  Fast Food,Snacks  21522251000378   \n",
       "148539  ₹ 250       Continental  21521251000241   \n",
       "148540  ₹ 200            Pizzas  21521251000634   \n",
       "\n",
       "                                                     link  \\\n",
       "148536  https://www.swiggy.com/restaurants/the-food-de...   \n",
       "148537  https://www.swiggy.com/restaurants/maitri-food...   \n",
       "148538  https://www.swiggy.com/restaurants/cafe-bella-...   \n",
       "148539  https://www.swiggy.com/restaurants/grill-zilla...   \n",
       "148540  https://www.swiggy.com/restaurants/lazeez-kitc...   \n",
       "\n",
       "                                                  address              menu  \n",
       "148536  The Food Delight, 94MC+X35, New Singhania Naga...  Menu/553122.json  \n",
       "148537  MAITRI FOODS & BEVERAGES, POLIC MITRYA SOCIETY...  Menu/562647.json  \n",
       "148538  Cafe Bella Ciao, SHOP NO 2 NEMANI MARKET SBI S...  Menu/559435.json  \n",
       "148539  GRILL ZILLA, SHO NO 2/6, POSTEL GROUND CHOWPAT...  Menu/418989.json  \n",
       "148540  Lazeez kitchen, 94G3+2RR, Wadgaon, Yavatmal, M...  Menu/447770.json  "
      ]
     },
     "execution_count": 137,
     "metadata": {},
     "output_type": "execute_result"
    }
   ],
   "source": [
    "df= pd.read_csv(r\"C:\\DATA SCIENCE\\PROJECT FOLDERS\\prj_restaurant_recommendation\\swiggy.csv\")\n",
    "df.tail()"
   ]
  },
  {
   "cell_type": "code",
   "execution_count": 126,
   "id": "6830f980",
   "metadata": {},
   "outputs": [
    {
     "data": {
      "text/html": [
       "<div>\n",
       "<style scoped>\n",
       "    .dataframe tbody tr th:only-of-type {\n",
       "        vertical-align: middle;\n",
       "    }\n",
       "\n",
       "    .dataframe tbody tr th {\n",
       "        vertical-align: top;\n",
       "    }\n",
       "\n",
       "    .dataframe thead th {\n",
       "        text-align: right;\n",
       "    }\n",
       "</style>\n",
       "<table border=\"1\" class=\"dataframe\">\n",
       "  <thead>\n",
       "    <tr style=\"text-align: right;\">\n",
       "      <th></th>\n",
       "      <th>id</th>\n",
       "      <th>name</th>\n",
       "      <th>city</th>\n",
       "      <th>rating</th>\n",
       "      <th>rating_count</th>\n",
       "      <th>cost</th>\n",
       "      <th>cuisine</th>\n",
       "      <th>lic_no</th>\n",
       "      <th>link</th>\n",
       "      <th>address</th>\n",
       "      <th>menu</th>\n",
       "    </tr>\n",
       "  </thead>\n",
       "  <tbody>\n",
       "    <tr>\n",
       "      <th>0</th>\n",
       "      <td>567335</td>\n",
       "      <td>AB FOODS POINT</td>\n",
       "      <td>Abohar</td>\n",
       "      <td>--</td>\n",
       "      <td>Too Few Ratings</td>\n",
       "      <td>₹ 200</td>\n",
       "      <td>Beverages,Pizzas</td>\n",
       "      <td>22122652000138</td>\n",
       "      <td>https://www.swiggy.com/restaurants/ab-foods-po...</td>\n",
       "      <td>AB FOODS POINT, NEAR RISHI NARANG DENTAL CLINI...</td>\n",
       "      <td>Menu/567335.json</td>\n",
       "    </tr>\n",
       "    <tr>\n",
       "      <th>1</th>\n",
       "      <td>531342</td>\n",
       "      <td>Janta Sweet House</td>\n",
       "      <td>Abohar</td>\n",
       "      <td>4.4</td>\n",
       "      <td>50+ ratings</td>\n",
       "      <td>₹ 200</td>\n",
       "      <td>Sweets,Bakery</td>\n",
       "      <td>12117201000112</td>\n",
       "      <td>https://www.swiggy.com/restaurants/janta-sweet...</td>\n",
       "      <td>Janta Sweet House, Bazar No.9, Circullar Road,...</td>\n",
       "      <td>Menu/531342.json</td>\n",
       "    </tr>\n",
       "    <tr>\n",
       "      <th>2</th>\n",
       "      <td>158203</td>\n",
       "      <td>theka coffee desi</td>\n",
       "      <td>Abohar</td>\n",
       "      <td>3.8</td>\n",
       "      <td>100+ ratings</td>\n",
       "      <td>₹ 100</td>\n",
       "      <td>Beverages</td>\n",
       "      <td>22121652000190</td>\n",
       "      <td>https://www.swiggy.com/restaurants/theka-coffe...</td>\n",
       "      <td>theka coffee desi, sahtiya sadan road city</td>\n",
       "      <td>Menu/158203.json</td>\n",
       "    </tr>\n",
       "    <tr>\n",
       "      <th>3</th>\n",
       "      <td>187912</td>\n",
       "      <td>Singh Hut</td>\n",
       "      <td>Abohar</td>\n",
       "      <td>3.7</td>\n",
       "      <td>20+ ratings</td>\n",
       "      <td>₹ 250</td>\n",
       "      <td>Fast Food,Indian</td>\n",
       "      <td>22119652000167</td>\n",
       "      <td>https://www.swiggy.com/restaurants/singh-hut-n...</td>\n",
       "      <td>Singh Hut, CIRCULAR ROAD NEAR NEHRU PARK ABOHAR</td>\n",
       "      <td>Menu/187912.json</td>\n",
       "    </tr>\n",
       "    <tr>\n",
       "      <th>4</th>\n",
       "      <td>543530</td>\n",
       "      <td>GRILL MASTERS</td>\n",
       "      <td>Abohar</td>\n",
       "      <td>--</td>\n",
       "      <td>Too Few Ratings</td>\n",
       "      <td>₹ 250</td>\n",
       "      <td>Italian-American,Fast Food</td>\n",
       "      <td>12122201000053</td>\n",
       "      <td>https://www.swiggy.com/restaurants/grill-maste...</td>\n",
       "      <td>GRILL MASTERS, ADA Heights, Abohar - Hanumanga...</td>\n",
       "      <td>Menu/543530.json</td>\n",
       "    </tr>\n",
       "  </tbody>\n",
       "</table>\n",
       "</div>"
      ],
      "text/plain": [
       "       id               name    city rating     rating_count   cost  \\\n",
       "0  567335     AB FOODS POINT  Abohar     --  Too Few Ratings  ₹ 200   \n",
       "1  531342  Janta Sweet House  Abohar    4.4      50+ ratings  ₹ 200   \n",
       "2  158203  theka coffee desi  Abohar    3.8     100+ ratings  ₹ 100   \n",
       "3  187912          Singh Hut  Abohar    3.7      20+ ratings  ₹ 250   \n",
       "4  543530      GRILL MASTERS  Abohar     --  Too Few Ratings  ₹ 250   \n",
       "\n",
       "                      cuisine          lic_no  \\\n",
       "0            Beverages,Pizzas  22122652000138   \n",
       "1               Sweets,Bakery  12117201000112   \n",
       "2                   Beverages  22121652000190   \n",
       "3            Fast Food,Indian  22119652000167   \n",
       "4  Italian-American,Fast Food  12122201000053   \n",
       "\n",
       "                                                link  \\\n",
       "0  https://www.swiggy.com/restaurants/ab-foods-po...   \n",
       "1  https://www.swiggy.com/restaurants/janta-sweet...   \n",
       "2  https://www.swiggy.com/restaurants/theka-coffe...   \n",
       "3  https://www.swiggy.com/restaurants/singh-hut-n...   \n",
       "4  https://www.swiggy.com/restaurants/grill-maste...   \n",
       "\n",
       "                                             address              menu  \n",
       "0  AB FOODS POINT, NEAR RISHI NARANG DENTAL CLINI...  Menu/567335.json  \n",
       "1  Janta Sweet House, Bazar No.9, Circullar Road,...  Menu/531342.json  \n",
       "2         theka coffee desi, sahtiya sadan road city  Menu/158203.json  \n",
       "3    Singh Hut, CIRCULAR ROAD NEAR NEHRU PARK ABOHAR  Menu/187912.json  \n",
       "4  GRILL MASTERS, ADA Heights, Abohar - Hanumanga...  Menu/543530.json  "
      ]
     },
     "execution_count": 126,
     "metadata": {},
     "output_type": "execute_result"
    }
   ],
   "source": [
    "df.head()"
   ]
  },
  {
   "cell_type": "code",
   "execution_count": 127,
   "id": "64916ccc",
   "metadata": {},
   "outputs": [
    {
     "data": {
      "text/plain": [
       "(148541, 11)"
      ]
     },
     "execution_count": 127,
     "metadata": {},
     "output_type": "execute_result"
    }
   ],
   "source": [
    "df.shape"
   ]
  },
  {
   "cell_type": "code",
   "execution_count": 128,
   "id": "6f628c82",
   "metadata": {},
   "outputs": [
    {
     "data": {
      "text/plain": [
       "Index(['id', 'name', 'city', 'rating', 'rating_count', 'cost', 'cuisine',\n",
       "       'lic_no', 'link', 'address', 'menu'],\n",
       "      dtype='object')"
      ]
     },
     "execution_count": 128,
     "metadata": {},
     "output_type": "execute_result"
    }
   ],
   "source": [
    "df.columns"
   ]
  },
  {
   "cell_type": "code",
   "execution_count": 129,
   "id": "9c4cdb7b",
   "metadata": {},
   "outputs": [
    {
     "name": "stdout",
     "output_type": "stream",
     "text": [
      "<class 'pandas.core.frame.DataFrame'>\n",
      "RangeIndex: 148541 entries, 0 to 148540\n",
      "Data columns (total 11 columns):\n",
      " #   Column        Non-Null Count   Dtype \n",
      "---  ------        --------------   ----- \n",
      " 0   id            148541 non-null  int64 \n",
      " 1   name          148455 non-null  object\n",
      " 2   city          148541 non-null  object\n",
      " 3   rating        148455 non-null  object\n",
      " 4   rating_count  148455 non-null  object\n",
      " 5   cost          148410 non-null  object\n",
      " 6   cuisine       148442 non-null  object\n",
      " 7   lic_no        148312 non-null  object\n",
      " 8   link          148541 non-null  object\n",
      " 9   address       148455 non-null  object\n",
      " 10  menu          148541 non-null  object\n",
      "dtypes: int64(1), object(10)\n",
      "memory usage: 12.5+ MB\n"
     ]
    }
   ],
   "source": [
    "df.info()\n"
   ]
  },
  {
   "cell_type": "code",
   "execution_count": 65,
   "id": "168cc75d",
   "metadata": {},
   "outputs": [
    {
     "data": {
      "text/plain": [
       "(148541, 11)"
      ]
     },
     "execution_count": 65,
     "metadata": {},
     "output_type": "execute_result"
    }
   ],
   "source": [
    "df.shape"
   ]
  },
  {
   "cell_type": "markdown",
   "id": "cc4647b5",
   "metadata": {},
   "source": [
    "D TYPE MODIFICATION"
   ]
  },
  {
   "cell_type": "code",
   "execution_count": null,
   "id": "7cdcc00c",
   "metadata": {},
   "outputs": [],
   "source": [
    "df['cost'] = df['cost'].astype(str)"
   ]
  },
  {
   "cell_type": "code",
   "execution_count": 146,
   "id": "c23f760c",
   "metadata": {},
   "outputs": [],
   "source": [
    "df['cost'] = df['cost'].replace('₹', '', regex=False)"
   ]
  },
  {
   "cell_type": "code",
   "execution_count": 147,
   "id": "5fdd3187",
   "metadata": {},
   "outputs": [
    {
     "data": {
      "text/plain": [
       "dtype('O')"
      ]
     },
     "execution_count": 147,
     "metadata": {},
     "output_type": "execute_result"
    }
   ],
   "source": [
    "df['cost'].dtype"
   ]
  },
  {
   "cell_type": "code",
   "execution_count": null,
   "id": "875199d4",
   "metadata": {},
   "outputs": [],
   "source": [
    "df['cost'] = df['cost'].replace(r'[^\\d.]+', '', regex=True)"
   ]
  },
  {
   "cell_type": "code",
   "execution_count": 149,
   "id": "4a092660",
   "metadata": {},
   "outputs": [],
   "source": [
    "df['cost'] = df['cost'].str.replace(' ', '', regex=False)"
   ]
  },
  {
   "cell_type": "code",
   "execution_count": 150,
   "id": "ef8b4b7c",
   "metadata": {},
   "outputs": [
    {
     "name": "stderr",
     "output_type": "stream",
     "text": [
      "C:\\Users\\123\\AppData\\Local\\Temp\\ipykernel_12592\\2544684873.py:1: FutureWarning: A value is trying to be set on a copy of a DataFrame or Series through chained assignment using an inplace method.\n",
      "The behavior will change in pandas 3.0. This inplace method will never work because the intermediate object on which we are setting values always behaves as a copy.\n",
      "\n",
      "For example, when doing 'df[col].method(value, inplace=True)', try using 'df.method({col: value}, inplace=True)' or df[col] = df[col].method(value) instead, to perform the operation inplace on the original object.\n",
      "\n",
      "\n",
      "  df['cost'].replace('', np.nan, inplace=True)\n"
     ]
    }
   ],
   "source": [
    "df['cost'].replace('', np.nan, inplace=True)"
   ]
  },
  {
   "cell_type": "code",
   "execution_count": 151,
   "id": "69d1188f",
   "metadata": {},
   "outputs": [
    {
     "name": "stdout",
     "output_type": "stream",
     "text": [
      "0    200\n",
      "1    200\n",
      "2    100\n",
      "3    250\n",
      "4    250\n",
      "Name: cost, dtype: object\n"
     ]
    }
   ],
   "source": [
    "print(df['cost'].head())"
   ]
  },
  {
   "cell_type": "code",
   "execution_count": 152,
   "id": "01e27ce7",
   "metadata": {},
   "outputs": [],
   "source": [
    "df['cost'] = df['cost'].astype(float)"
   ]
  },
  {
   "cell_type": "code",
   "execution_count": null,
   "id": "26963a1f",
   "metadata": {},
   "outputs": [],
   "source": [
    "df['cost'] = df['cost'].fillna(df.groupby('city')['cost'].transform('mean'))\n",
    "df['cuisine'] = df['cuisine'].fillna(df.groupby('city')['cuisine'].transform(lambda x: x.mode()[0]))"
   ]
  },
  {
   "cell_type": "code",
   "execution_count": null,
   "id": "8ce0669b",
   "metadata": {},
   "outputs": [],
   "source": [
    "df.isnull().sum()"
   ]
  },
  {
   "cell_type": "code",
   "execution_count": null,
   "id": "f29245d6",
   "metadata": {},
   "outputs": [],
   "source": [
    "rows_with_nan = df[df['lic_no'].isnull()]\n",
    "\n",
    "# Display the rows with NaN in the specified column\n",
    "print(rows_with_nan)"
   ]
  },
  {
   "cell_type": "code",
   "execution_count": null,
   "id": "0e9c2028",
   "metadata": {},
   "outputs": [],
   "source": [
    "rows_with_nan = df[df['cost'].isnull()]\n",
    "\n",
    "# Display the rows with NaN in the specified column\n",
    "print(rows_with_nan)\n",
    "df = df.dropna(subset=['name'])"
   ]
  },
  {
   "cell_type": "code",
   "execution_count": null,
   "id": "314790cf",
   "metadata": {},
   "outputs": [],
   "source": [
    "#df = df.dropna(subset=['lic_no'])"
   ]
  },
  {
   "cell_type": "markdown",
   "id": "17ceab37",
   "metadata": {},
   "source": [
    "DUPLICATES"
   ]
  },
  {
   "cell_type": "code",
   "execution_count": null,
   "id": "b62312b5",
   "metadata": {},
   "outputs": [
    {
     "name": "stdout",
     "output_type": "stream",
     "text": [
      "id - 0\n",
      "name - 0\n",
      "city - 112004\n",
      "rating - 112776\n",
      "rating_count - 112810\n",
      "cost - 112467\n",
      "cuisine - 110787\n",
      "lic_no - 25400\n",
      "link - 0\n",
      "address - 0\n",
      "menu - 0\n"
     ]
    }
   ],
   "source": [
    "for column in df.columns:\n",
    "    dup_count = df[column].duplicated().sum()\n",
    "    print(f\"{column} - {dup_count}\")"
   ]
  },
  {
   "cell_type": "code",
   "execution_count": 31,
   "id": "2b390cd5",
   "metadata": {},
   "outputs": [
    {
     "name": "stdout",
     "output_type": "stream",
     "text": [
      "lic_no\n",
      "license           10002\n",
      "22122676000410      150\n",
      "21220188001393      107\n",
      "20821005003479      102\n",
      "23321004001112       98\n",
      "                  ...  \n",
      "21520251001103        1\n",
      "21516407000361        1\n",
      "21518407000643        1\n",
      "21521251000558        1\n",
      "11520053000069        1\n",
      "Name: count, Length: 87427, dtype: int64\n"
     ]
    }
   ],
   "source": [
    "dup= df['lic_no'].value_counts()\n",
    "print(dup)"
   ]
  },
  {
   "cell_type": "code",
   "execution_count": null,
   "id": "1beb7733",
   "metadata": {},
   "outputs": [],
   "source": [
    "df.drop_duplicates(subset=['name'], keep='first', inplace=True)"
   ]
  },
  {
   "cell_type": "code",
   "execution_count": 158,
   "id": "6e2e0b03",
   "metadata": {},
   "outputs": [
    {
     "data": {
      "text/plain": [
       "Index(['id', 'name', 'city', 'rating', 'rating_count', 'cost', 'cuisine',\n",
       "       'lic_no', 'link', 'address', 'menu'],\n",
       "      dtype='object')"
      ]
     },
     "execution_count": 158,
     "metadata": {},
     "output_type": "execute_result"
    }
   ],
   "source": [
    "df.columns"
   ]
  },
  {
   "cell_type": "code",
   "execution_count": 107,
   "id": "54b03856",
   "metadata": {},
   "outputs": [
    {
     "data": {
      "text/plain": [
       "array(['Too Few Ratings', '50+ ratings', '100+ ratings', '20+ ratings',\n",
       "       '500+ ratings', '1K+ ratings', '5K+ ratings', '10K+ ratings'],\n",
       "      dtype=object)"
      ]
     },
     "execution_count": 107,
     "metadata": {},
     "output_type": "execute_result"
    }
   ],
   "source": [
    "df['rating_count'].unique()"
   ]
  },
  {
   "cell_type": "code",
   "execution_count": 159,
   "id": "e5fedb7d",
   "metadata": {},
   "outputs": [
    {
     "data": {
      "text/plain": [
       "0       AB FOODS POINT\n",
       "1    Janta Sweet House\n",
       "2    theka coffee desi\n",
       "3            Singh Hut\n",
       "4        GRILL MASTERS\n",
       "Name: name, dtype: object"
      ]
     },
     "execution_count": 159,
     "metadata": {},
     "output_type": "execute_result"
    }
   ],
   "source": [
    "df['name'].head()"
   ]
  },
  {
   "cell_type": "code",
   "execution_count": null,
   "id": "884fd637",
   "metadata": {},
   "outputs": [
    {
     "name": "stdout",
     "output_type": "stream",
     "text": [
      "df.rename(columns={'id': 'new_column_name'}, inplace=True)\n",
      "df.rename(columns={'name': 'new_column_name'}, inplace=True)\n",
      "df.rename(columns={'city': 'new_column_name'}, inplace=True)\n",
      "df.rename(columns={'rating': 'new_column_name'}, inplace=True)\n",
      "df.rename(columns={'rating_count': 'new_column_name'}, inplace=True)\n",
      "df.rename(columns={'cost': 'new_column_name'}, inplace=True)\n",
      "df.rename(columns={'cuisine': 'new_column_name'}, inplace=True)\n",
      "df.rename(columns={'lic_no': 'new_column_name'}, inplace=True)\n",
      "df.rename(columns={'link': 'new_column_name'}, inplace=True)\n",
      "df.rename(columns={'address': 'new_column_name'}, inplace=True)\n",
      "df.rename(columns={'menu': 'new_column_name'}, inplace=True)\n"
     ]
    }
   ],
   "source": [
    "for i in df.columns:\n",
    "    print(f\"df.rename(columns={{'{i}': 'new_column_name'}}, inplace=True)\")"
   ]
  },
  {
   "cell_type": "code",
   "execution_count": 161,
   "id": "601b5d2d",
   "metadata": {},
   "outputs": [],
   "source": [
    "df.rename(columns={'id': 'ID.No'}, inplace=True)\n",
    "df.rename(columns={'name': 'NAME'}, inplace=True)\n",
    "df.rename(columns={'city': 'CITY'}, inplace=True)\n",
    "df.rename(columns={'rating': 'RATING'}, inplace=True)\n",
    "df.rename(columns={'rating_count': 'Rating_Count'}, inplace=True)\n",
    "df.rename(columns={'cost': 'COST'}, inplace=True)\n",
    "df.rename(columns={'cuisine': 'CUISINE'}, inplace=True)\n",
    "df.rename(columns={'lic_no': 'License_No'}, inplace=True)\n",
    "df.rename(columns={'link': 'LINK'}, inplace=True)\n",
    "df.rename(columns={'address': 'ADDRESS'}, inplace=True)\n",
    "df.rename(columns={'menu': 'MENU'}, inplace=True)"
   ]
  },
  {
   "cell_type": "code",
   "execution_count": 162,
   "id": "b49210ce",
   "metadata": {},
   "outputs": [
    {
     "data": {
      "text/plain": [
       "Index(['ID.No', 'NAME', 'CITY', 'RATING', 'Rating_Count', 'COST', 'CUISINE',\n",
       "       'License_No', 'LINK', 'ADDRESS', 'MENU'],\n",
       "      dtype='object')"
      ]
     },
     "execution_count": 162,
     "metadata": {},
     "output_type": "execute_result"
    }
   ],
   "source": [
    "df.columns"
   ]
  },
  {
   "cell_type": "code",
   "execution_count": null,
   "id": "608da0eb",
   "metadata": {},
   "outputs": [],
   "source": [
    "df['NAME'] = df['NAME'].str.lower().str.capitalize()"
   ]
  },
  {
   "cell_type": "code",
   "execution_count": 164,
   "id": "c6c9a65c",
   "metadata": {},
   "outputs": [
    {
     "data": {
      "text/plain": [
       "0       Ab foods point\n",
       "1    Janta sweet house\n",
       "2    Theka coffee desi\n",
       "3            Singh hut\n",
       "4        Grill masters\n",
       "Name: NAME, dtype: object"
      ]
     },
     "execution_count": 164,
     "metadata": {},
     "output_type": "execute_result"
    }
   ],
   "source": [
    "df['NAME'].head()"
   ]
  },
  {
   "cell_type": "code",
   "execution_count": 172,
   "id": "242ad3ed",
   "metadata": {},
   "outputs": [
    {
     "data": {
      "text/plain": [
       "0   NaN\n",
       "1   NaN\n",
       "2   NaN\n",
       "3   NaN\n",
       "4   NaN\n",
       "Name: ID.No, dtype: float64"
      ]
     },
     "execution_count": 172,
     "metadata": {},
     "output_type": "execute_result"
    }
   ],
   "source": [
    "df['ID.No'].head()"
   ]
  },
  {
   "cell_type": "code",
   "execution_count": 167,
   "id": "3108ec04",
   "metadata": {},
   "outputs": [],
   "source": [
    "df.to_csv(r\"C:\\DATA SCIENCE\\PROJECT FOLDERS\\prj_restaurant_recommendation\\3_cleaned_df.csv\",index = False)"
   ]
  },
  {
   "cell_type": "code",
   "execution_count": 45,
   "id": "54f11512",
   "metadata": {},
   "outputs": [
    {
     "data": {
      "text/html": [
       "<div>\n",
       "<style scoped>\n",
       "    .dataframe tbody tr th:only-of-type {\n",
       "        vertical-align: middle;\n",
       "    }\n",
       "\n",
       "    .dataframe tbody tr th {\n",
       "        vertical-align: top;\n",
       "    }\n",
       "\n",
       "    .dataframe thead th {\n",
       "        text-align: right;\n",
       "    }\n",
       "</style>\n",
       "<table border=\"1\" class=\"dataframe\">\n",
       "  <thead>\n",
       "    <tr style=\"text-align: right;\">\n",
       "      <th></th>\n",
       "      <th>ID.No</th>\n",
       "      <th>NAME</th>\n",
       "      <th>CITY</th>\n",
       "      <th>RATING</th>\n",
       "      <th>Rating_Count</th>\n",
       "      <th>COST</th>\n",
       "      <th>CUISINE</th>\n",
       "      <th>License_No</th>\n",
       "      <th>LINK</th>\n",
       "      <th>ADDRESS</th>\n",
       "      <th>MENU</th>\n",
       "    </tr>\n",
       "  </thead>\n",
       "  <tbody>\n",
       "    <tr>\n",
       "      <th>0</th>\n",
       "      <td>567335</td>\n",
       "      <td>Ab foods point</td>\n",
       "      <td>Abohar</td>\n",
       "      <td>--</td>\n",
       "      <td>Too Few Ratings</td>\n",
       "      <td>200.0</td>\n",
       "      <td>Beverages,Pizzas</td>\n",
       "      <td>22122652000138</td>\n",
       "      <td>https://www.swiggy.com/restaurants/ab-foods-po...</td>\n",
       "      <td>AB FOODS POINT, NEAR RISHI NARANG DENTAL CLINI...</td>\n",
       "      <td>Menu/567335.json</td>\n",
       "    </tr>\n",
       "    <tr>\n",
       "      <th>1</th>\n",
       "      <td>531342</td>\n",
       "      <td>Janta sweet house</td>\n",
       "      <td>Abohar</td>\n",
       "      <td>4.4</td>\n",
       "      <td>50+ ratings</td>\n",
       "      <td>200.0</td>\n",
       "      <td>Sweets,Bakery</td>\n",
       "      <td>12117201000112</td>\n",
       "      <td>https://www.swiggy.com/restaurants/janta-sweet...</td>\n",
       "      <td>Janta Sweet House, Bazar No.9, Circullar Road,...</td>\n",
       "      <td>Menu/531342.json</td>\n",
       "    </tr>\n",
       "    <tr>\n",
       "      <th>2</th>\n",
       "      <td>158203</td>\n",
       "      <td>Theka coffee desi</td>\n",
       "      <td>Abohar</td>\n",
       "      <td>3.8</td>\n",
       "      <td>100+ ratings</td>\n",
       "      <td>100.0</td>\n",
       "      <td>Beverages</td>\n",
       "      <td>22121652000190</td>\n",
       "      <td>https://www.swiggy.com/restaurants/theka-coffe...</td>\n",
       "      <td>theka coffee desi, sahtiya sadan road city</td>\n",
       "      <td>Menu/158203.json</td>\n",
       "    </tr>\n",
       "    <tr>\n",
       "      <th>3</th>\n",
       "      <td>187912</td>\n",
       "      <td>Singh hut</td>\n",
       "      <td>Abohar</td>\n",
       "      <td>3.7</td>\n",
       "      <td>20+ ratings</td>\n",
       "      <td>250.0</td>\n",
       "      <td>Fast Food,Indian</td>\n",
       "      <td>22119652000167</td>\n",
       "      <td>https://www.swiggy.com/restaurants/singh-hut-n...</td>\n",
       "      <td>Singh Hut, CIRCULAR ROAD NEAR NEHRU PARK ABOHAR</td>\n",
       "      <td>Menu/187912.json</td>\n",
       "    </tr>\n",
       "    <tr>\n",
       "      <th>4</th>\n",
       "      <td>543530</td>\n",
       "      <td>Grill masters</td>\n",
       "      <td>Abohar</td>\n",
       "      <td>--</td>\n",
       "      <td>Too Few Ratings</td>\n",
       "      <td>250.0</td>\n",
       "      <td>Italian-American,Fast Food</td>\n",
       "      <td>12122201000053</td>\n",
       "      <td>https://www.swiggy.com/restaurants/grill-maste...</td>\n",
       "      <td>GRILL MASTERS, ADA Heights, Abohar - Hanumanga...</td>\n",
       "      <td>Menu/543530.json</td>\n",
       "    </tr>\n",
       "  </tbody>\n",
       "</table>\n",
       "</div>"
      ],
      "text/plain": [
       "    ID.No               NAME    CITY RATING     Rating_Count   COST  \\\n",
       "0  567335     Ab foods point  Abohar     --  Too Few Ratings  200.0   \n",
       "1  531342  Janta sweet house  Abohar    4.4      50+ ratings  200.0   \n",
       "2  158203  Theka coffee desi  Abohar    3.8     100+ ratings  100.0   \n",
       "3  187912          Singh hut  Abohar    3.7      20+ ratings  250.0   \n",
       "4  543530      Grill masters  Abohar     --  Too Few Ratings  250.0   \n",
       "\n",
       "                      CUISINE      License_No  \\\n",
       "0            Beverages,Pizzas  22122652000138   \n",
       "1               Sweets,Bakery  12117201000112   \n",
       "2                   Beverages  22121652000190   \n",
       "3            Fast Food,Indian  22119652000167   \n",
       "4  Italian-American,Fast Food  12122201000053   \n",
       "\n",
       "                                                LINK  \\\n",
       "0  https://www.swiggy.com/restaurants/ab-foods-po...   \n",
       "1  https://www.swiggy.com/restaurants/janta-sweet...   \n",
       "2  https://www.swiggy.com/restaurants/theka-coffe...   \n",
       "3  https://www.swiggy.com/restaurants/singh-hut-n...   \n",
       "4  https://www.swiggy.com/restaurants/grill-maste...   \n",
       "\n",
       "                                             ADDRESS              MENU  \n",
       "0  AB FOODS POINT, NEAR RISHI NARANG DENTAL CLINI...  Menu/567335.json  \n",
       "1  Janta Sweet House, Bazar No.9, Circullar Road,...  Menu/531342.json  \n",
       "2         theka coffee desi, sahtiya sadan road city  Menu/158203.json  \n",
       "3    Singh Hut, CIRCULAR ROAD NEAR NEHRU PARK ABOHAR  Menu/187912.json  \n",
       "4  GRILL MASTERS, ADA Heights, Abohar - Hanumanga...  Menu/543530.json  "
      ]
     },
     "execution_count": 45,
     "metadata": {},
     "output_type": "execute_result"
    }
   ],
   "source": [
    "df1 = pd.read_csv(r\"C:\\DATA SCIENCE\\PROJECT FOLDERS\\prj_restaurant_recommendation\\3_cleaned_df.csv\")\n",
    "df1.head()"
   ]
  },
  {
   "cell_type": "code",
   "execution_count": 46,
   "id": "23c2e020",
   "metadata": {},
   "outputs": [
    {
     "data": {
      "text/plain": [
       "112813    553122\n",
       "112814    562647\n",
       "112815    559435\n",
       "112816    418989\n",
       "112817    447770\n",
       "Name: ID.No, dtype: int64"
      ]
     },
     "execution_count": 46,
     "metadata": {},
     "output_type": "execute_result"
    }
   ],
   "source": [
    "df1['ID.No'].tail()"
   ]
  },
  {
   "cell_type": "code",
   "execution_count": null,
   "id": "788e1def",
   "metadata": {},
   "outputs": [
    {
     "name": "stdout",
     "output_type": "stream",
     "text": [
      "[378059, 529034, 185296, 561381, 214210, 553122, 562647, 559435, 418989, 447770]\n"
     ]
    }
   ],
   "source": [
    "print(df1['ID.No'].tail(10).tolist())"
   ]
  },
  {
   "cell_type": "code",
   "execution_count": 48,
   "id": "ed914ee9",
   "metadata": {},
   "outputs": [
    {
     "data": {
      "text/plain": [
       "0    Abohar\n",
       "1    Abohar\n",
       "2    Abohar\n",
       "3    Abohar\n",
       "4    Abohar\n",
       "Name: CITY, dtype: object"
      ]
     },
     "execution_count": 48,
     "metadata": {},
     "output_type": "execute_result"
    }
   ],
   "source": [
    "df1['CITY'].head()"
   ]
  },
  {
   "cell_type": "code",
   "execution_count": 49,
   "id": "6e3bef4e",
   "metadata": {},
   "outputs": [
    {
     "data": {
      "text/plain": [
       "CITY\n",
       "Bikaner                     1453\n",
       "Noida-1                      991\n",
       "Indirapuram,Delhi            986\n",
       "Rohini,Delhi                 910\n",
       "BTM,Bangalore                908\n",
       "                            ... \n",
       "Darjeeling                     1\n",
       "BBK_Chattarpur,Delhi           1\n",
       "Boisar                         1\n",
       "Alwarpet,Chennai               1\n",
       "Padmarao Nagar,Hyderabad       1\n",
       "Name: count, Length: 814, dtype: int64"
      ]
     },
     "execution_count": 49,
     "metadata": {},
     "output_type": "execute_result"
    }
   ],
   "source": [
    "df1['CITY'].value_counts()"
   ]
  },
  {
   "cell_type": "code",
   "execution_count": 52,
   "id": "98d2a683",
   "metadata": {},
   "outputs": [
    {
     "data": {
      "text/plain": [
       "array(['0', '4.4', '3.8', '3.7', '3.6', '4.0', '4.2', '4.7', '4.1', '3.5',\n",
       "       '3.1', '3.4', '3.3', '4.8', '3.9', '2.7', '4.3', '2.9', '4.5',\n",
       "       '2.5', '3.2', '2.4', '4.6', '3.0', '2.8', '2.3', '5.0', '2.6',\n",
       "       '2.2', '1.4', '4.9', '2.1', '1.3', '2.0', '1.8', '1.6', '1.9',\n",
       "       '1.1', '1.5', '1.0', '1.2', '1.7'], dtype=object)"
      ]
     },
     "execution_count": 52,
     "metadata": {},
     "output_type": "execute_result"
    }
   ],
   "source": [
    "df1['RATING'].unique()"
   ]
  },
  {
   "cell_type": "code",
   "execution_count": 51,
   "id": "b3689969",
   "metadata": {},
   "outputs": [],
   "source": [
    "df1['RATING'] = df1['RATING'].str.replace('--', '0', regex=False)\n",
    "\n"
   ]
  },
  {
   "cell_type": "code",
   "execution_count": 54,
   "id": "d2b39ac9",
   "metadata": {},
   "outputs": [],
   "source": [
    "df1['RATING'] = df1['RATING'].astype(float)"
   ]
  },
  {
   "cell_type": "code",
   "execution_count": 55,
   "id": "132f9b99",
   "metadata": {},
   "outputs": [
    {
     "data": {
      "text/plain": [
       "dtype('float64')"
      ]
     },
     "execution_count": 55,
     "metadata": {},
     "output_type": "execute_result"
    }
   ],
   "source": [
    "df1['RATING'].dtype"
   ]
  },
  {
   "cell_type": "code",
   "execution_count": 60,
   "id": "3187c0e9",
   "metadata": {},
   "outputs": [
    {
     "data": {
      "text/plain": [
       "array(['5+', '50+', '100+', '20+', '500+', '1K+', '5K+', '10K+'],\n",
       "      dtype=object)"
      ]
     },
     "execution_count": 60,
     "metadata": {},
     "output_type": "execute_result"
    }
   ],
   "source": [
    "df1['Rating_Count'].unique()\n"
   ]
  },
  {
   "cell_type": "code",
   "execution_count": 59,
   "id": "155359dd",
   "metadata": {},
   "outputs": [],
   "source": [
    "df1['Rating_Count'] = df1['Rating_Count'].str.replace('Too Few Ratings','5+')\n",
    "df1['Rating_Count'] = df1['Rating_Count'].str.replace('ratings','')\n",
    "df1['Rating_Count'] = df1['Rating_Count'].str.replace(r'\\s+', '', regex=True)\n"
   ]
  },
  {
   "cell_type": "code",
   "execution_count": 64,
   "id": "a1ad315c",
   "metadata": {},
   "outputs": [
    {
     "name": "stdout",
     "output_type": "stream",
     "text": [
      "56961     800.0\n",
      "105068    150.0\n",
      "6046      250.0\n",
      "13256     150.0\n",
      "2724      500.0\n",
      "97571     500.0\n",
      "43597     300.0\n",
      "58281     250.0\n",
      "88530     300.0\n",
      "21231     500.0\n",
      "Name: COST, dtype: float64\n"
     ]
    }
   ],
   "source": [
    "random_values = df1['COST'].sample(n=10, random_state=42)\n",
    "\n",
    "print(random_values)"
   ]
  },
  {
   "cell_type": "code",
   "execution_count": 65,
   "id": "79350c0c",
   "metadata": {},
   "outputs": [
    {
     "name": "stdout",
     "output_type": "stream",
     "text": [
      "56961          Asian,Continental\n",
      "105068                   Chinese\n",
      "6046              Indian,Chinese\n",
      "13256     South Indian,Beverages\n",
      "2724                Combo,Indian\n",
      "97571        North Indian,Indian\n",
      "43597                     Indian\n",
      "58281                   Desserts\n",
      "88530               North Indian\n",
      "21231                     Indian\n",
      "Name: CUISINE, dtype: object\n"
     ]
    }
   ],
   "source": [
    "random_values = df1['CUISINE'].sample(n=10, random_state=42)\n",
    "\n",
    "print(random_values)"
   ]
  },
  {
   "cell_type": "code",
   "execution_count": 66,
   "id": "d6281ecd",
   "metadata": {},
   "outputs": [
    {
     "data": {
      "text/plain": [
       "CUISINE\n",
       "Indian                  5617\n",
       "North Indian,Chinese    5424\n",
       "Chinese                 4244\n",
       "North Indian            4025\n",
       "Indian,Chinese          3885\n",
       "                        ... \n",
       "Tandoor ,indian            1\n",
       "Japanese,Fast Food         1\n",
       "Tibetan,Arabian            1\n",
       "Gujarati,Italian           1\n",
       "Kerala,Home Food           1\n",
       "Name: count, Length: 2030, dtype: int64"
      ]
     },
     "execution_count": 66,
     "metadata": {},
     "output_type": "execute_result"
    }
   ],
   "source": [
    "df1['CUISINE'].value_counts()"
   ]
  },
  {
   "cell_type": "code",
   "execution_count": 67,
   "id": "158c3fd9",
   "metadata": {},
   "outputs": [],
   "source": [
    "df1['CUISINE'] = df1['CUISINE'].astype(str)"
   ]
  },
  {
   "cell_type": "code",
   "execution_count": 68,
   "id": "199cd241",
   "metadata": {},
   "outputs": [
    {
     "data": {
      "text/plain": [
       "dtype('O')"
      ]
     },
     "execution_count": 68,
     "metadata": {},
     "output_type": "execute_result"
    }
   ],
   "source": [
    "df1['CUISINE'].dtype"
   ]
  },
  {
   "cell_type": "code",
   "execution_count": 69,
   "id": "04ebfd47",
   "metadata": {},
   "outputs": [
    {
     "data": {
      "text/plain": [
       "Index(['ID.No', 'NAME', 'CITY', 'RATING', 'Rating_Count', 'COST', 'CUISINE',\n",
       "       'License_No', 'LINK', 'ADDRESS', 'MENU'],\n",
       "      dtype='object')"
      ]
     },
     "execution_count": 69,
     "metadata": {},
     "output_type": "execute_result"
    }
   ],
   "source": [
    "df1.columns"
   ]
  },
  {
   "cell_type": "code",
   "execution_count": 71,
   "id": "13b8fc40",
   "metadata": {},
   "outputs": [
    {
     "name": "stdout",
     "output_type": "stream",
     "text": [
      "0    https://www.swiggy.com/restaurants/ab-foods-po...\n",
      "1    https://www.swiggy.com/restaurants/janta-sweet...\n",
      "2    https://www.swiggy.com/restaurants/theka-coffe...\n",
      "3    https://www.swiggy.com/restaurants/singh-hut-n...\n",
      "4    https://www.swiggy.com/restaurants/grill-maste...\n",
      "Name: LINK, dtype: object\n",
      "object\n"
     ]
    }
   ],
   "source": [
    "print(df1['LINK'].head())\n",
    "print(df1['LINK'].dtype)"
   ]
  },
  {
   "cell_type": "code",
   "execution_count": 74,
   "id": "beed500c",
   "metadata": {},
   "outputs": [
    {
     "name": "stdout",
     "output_type": "stream",
     "text": [
      "0    Ab Foods Point, Near Rishi Narang Dental Clini...\n",
      "1    Janta Sweet House, Bazar No.9, Circullar Road,...\n",
      "2           Theka Coffee Desi, Sahtiya Sadan Road City\n",
      "3      Singh Hut, Circular Road Near Nehru Park Abohar\n",
      "4    Grill Masters, Ada Heights, Abohar - Hanumanga...\n",
      "Name: ADDRESS, dtype: object\n"
     ]
    }
   ],
   "source": [
    "print(df1['ADDRESS'].head())"
   ]
  },
  {
   "cell_type": "code",
   "execution_count": 73,
   "id": "7fcf78e5",
   "metadata": {},
   "outputs": [],
   "source": [
    "def clean_address(address):\n",
    "    address = address.lower()  # Convert to lowercase\n",
    "    address = address.replace('...', '')  # Remove ellipsis if any\n",
    "    address = address.strip()  # Remove leading and trailing spaces\n",
    "    address = ' '.join(address.split())  # Remove extra spaces\n",
    "    address = address.title()  # Convert to title case\n",
    "    return address\n",
    "\n",
    "# Apply the cleaning function to each address\n",
    "df1['ADDRESS'] = df1['ADDRESS'].apply(clean_address)"
   ]
  },
  {
   "cell_type": "code",
   "execution_count": 75,
   "id": "a63cbfd7",
   "metadata": {},
   "outputs": [
    {
     "name": "stdout",
     "output_type": "stream",
     "text": [
      "0    Menu/567335.json\n",
      "1    Menu/531342.json\n",
      "2    Menu/158203.json\n",
      "3    Menu/187912.json\n",
      "4    Menu/543530.json\n",
      "Name: MENU, dtype: object\n"
     ]
    }
   ],
   "source": [
    "print(df1['MENU'].head())"
   ]
  },
  {
   "cell_type": "code",
   "execution_count": 76,
   "id": "f1c9adf5",
   "metadata": {},
   "outputs": [],
   "source": [
    "df1.to_csv(r'C:\\DATA SCIENCE\\PROJECT FOLDERS\\prj_restaurant_recommendation\\cleaned_df.csv',index = False)"
   ]
  },
  {
   "cell_type": "code",
   "execution_count": 77,
   "id": "15784634",
   "metadata": {},
   "outputs": [
    {
     "data": {
      "text/html": [
       "<div>\n",
       "<style scoped>\n",
       "    .dataframe tbody tr th:only-of-type {\n",
       "        vertical-align: middle;\n",
       "    }\n",
       "\n",
       "    .dataframe tbody tr th {\n",
       "        vertical-align: top;\n",
       "    }\n",
       "\n",
       "    .dataframe thead th {\n",
       "        text-align: right;\n",
       "    }\n",
       "</style>\n",
       "<table border=\"1\" class=\"dataframe\">\n",
       "  <thead>\n",
       "    <tr style=\"text-align: right;\">\n",
       "      <th></th>\n",
       "      <th>ID.No</th>\n",
       "      <th>NAME</th>\n",
       "      <th>CITY</th>\n",
       "      <th>RATING</th>\n",
       "      <th>Rating_Count</th>\n",
       "      <th>COST</th>\n",
       "      <th>CUISINE</th>\n",
       "      <th>License_No</th>\n",
       "      <th>LINK</th>\n",
       "      <th>ADDRESS</th>\n",
       "      <th>MENU</th>\n",
       "    </tr>\n",
       "  </thead>\n",
       "  <tbody>\n",
       "    <tr>\n",
       "      <th>0</th>\n",
       "      <td>567335</td>\n",
       "      <td>Ab foods point</td>\n",
       "      <td>Abohar</td>\n",
       "      <td>0.0</td>\n",
       "      <td>5+</td>\n",
       "      <td>200.0</td>\n",
       "      <td>Beverages,Pizzas</td>\n",
       "      <td>22122652000138</td>\n",
       "      <td>https://www.swiggy.com/restaurants/ab-foods-po...</td>\n",
       "      <td>Ab Foods Point, Near Rishi Narang Dental Clini...</td>\n",
       "      <td>Menu/567335.json</td>\n",
       "    </tr>\n",
       "    <tr>\n",
       "      <th>1</th>\n",
       "      <td>531342</td>\n",
       "      <td>Janta sweet house</td>\n",
       "      <td>Abohar</td>\n",
       "      <td>4.4</td>\n",
       "      <td>50+</td>\n",
       "      <td>200.0</td>\n",
       "      <td>Sweets,Bakery</td>\n",
       "      <td>12117201000112</td>\n",
       "      <td>https://www.swiggy.com/restaurants/janta-sweet...</td>\n",
       "      <td>Janta Sweet House, Bazar No.9, Circullar Road,...</td>\n",
       "      <td>Menu/531342.json</td>\n",
       "    </tr>\n",
       "    <tr>\n",
       "      <th>2</th>\n",
       "      <td>158203</td>\n",
       "      <td>Theka coffee desi</td>\n",
       "      <td>Abohar</td>\n",
       "      <td>3.8</td>\n",
       "      <td>100+</td>\n",
       "      <td>100.0</td>\n",
       "      <td>Beverages</td>\n",
       "      <td>22121652000190</td>\n",
       "      <td>https://www.swiggy.com/restaurants/theka-coffe...</td>\n",
       "      <td>Theka Coffee Desi, Sahtiya Sadan Road City</td>\n",
       "      <td>Menu/158203.json</td>\n",
       "    </tr>\n",
       "    <tr>\n",
       "      <th>3</th>\n",
       "      <td>187912</td>\n",
       "      <td>Singh hut</td>\n",
       "      <td>Abohar</td>\n",
       "      <td>3.7</td>\n",
       "      <td>20+</td>\n",
       "      <td>250.0</td>\n",
       "      <td>Fast Food,Indian</td>\n",
       "      <td>22119652000167</td>\n",
       "      <td>https://www.swiggy.com/restaurants/singh-hut-n...</td>\n",
       "      <td>Singh Hut, Circular Road Near Nehru Park Abohar</td>\n",
       "      <td>Menu/187912.json</td>\n",
       "    </tr>\n",
       "    <tr>\n",
       "      <th>4</th>\n",
       "      <td>543530</td>\n",
       "      <td>Grill masters</td>\n",
       "      <td>Abohar</td>\n",
       "      <td>0.0</td>\n",
       "      <td>5+</td>\n",
       "      <td>250.0</td>\n",
       "      <td>Italian-American,Fast Food</td>\n",
       "      <td>12122201000053</td>\n",
       "      <td>https://www.swiggy.com/restaurants/grill-maste...</td>\n",
       "      <td>Grill Masters, Ada Heights, Abohar - Hanumanga...</td>\n",
       "      <td>Menu/543530.json</td>\n",
       "    </tr>\n",
       "    <tr>\n",
       "      <th>...</th>\n",
       "      <td>...</td>\n",
       "      <td>...</td>\n",
       "      <td>...</td>\n",
       "      <td>...</td>\n",
       "      <td>...</td>\n",
       "      <td>...</td>\n",
       "      <td>...</td>\n",
       "      <td>...</td>\n",
       "      <td>...</td>\n",
       "      <td>...</td>\n",
       "      <td>...</td>\n",
       "    </tr>\n",
       "    <tr>\n",
       "      <th>112813</th>\n",
       "      <td>553122</td>\n",
       "      <td>The food delight</td>\n",
       "      <td>Yavatmal</td>\n",
       "      <td>0.0</td>\n",
       "      <td>5+</td>\n",
       "      <td>200.0</td>\n",
       "      <td>Fast Food,Snacks</td>\n",
       "      <td>21522053000452</td>\n",
       "      <td>https://www.swiggy.com/restaurants/the-food-de...</td>\n",
       "      <td>The Food Delight, 94Mc+X35, New Singhania Naga...</td>\n",
       "      <td>Menu/553122.json</td>\n",
       "    </tr>\n",
       "    <tr>\n",
       "      <th>112814</th>\n",
       "      <td>562647</td>\n",
       "      <td>Maitri foods &amp; beverages</td>\n",
       "      <td>Yavatmal</td>\n",
       "      <td>0.0</td>\n",
       "      <td>5+</td>\n",
       "      <td>300.0</td>\n",
       "      <td>Pizzas</td>\n",
       "      <td>license</td>\n",
       "      <td>https://www.swiggy.com/restaurants/maitri-food...</td>\n",
       "      <td>Maitri Foods &amp; Beverages, Polic Mitrya Society...</td>\n",
       "      <td>Menu/562647.json</td>\n",
       "    </tr>\n",
       "    <tr>\n",
       "      <th>112815</th>\n",
       "      <td>559435</td>\n",
       "      <td>Cafe bella ciao</td>\n",
       "      <td>Yavatmal</td>\n",
       "      <td>0.0</td>\n",
       "      <td>5+</td>\n",
       "      <td>300.0</td>\n",
       "      <td>Fast Food,Snacks</td>\n",
       "      <td>21522251000378</td>\n",
       "      <td>https://www.swiggy.com/restaurants/cafe-bella-...</td>\n",
       "      <td>Cafe Bella Ciao, Shop No 2 Nemani Market Sbi S...</td>\n",
       "      <td>Menu/559435.json</td>\n",
       "    </tr>\n",
       "    <tr>\n",
       "      <th>112816</th>\n",
       "      <td>418989</td>\n",
       "      <td>Grill zilla</td>\n",
       "      <td>Yavatmal</td>\n",
       "      <td>0.0</td>\n",
       "      <td>5+</td>\n",
       "      <td>250.0</td>\n",
       "      <td>Continental</td>\n",
       "      <td>21521251000241</td>\n",
       "      <td>https://www.swiggy.com/restaurants/grill-zilla...</td>\n",
       "      <td>Grill Zilla, Sho No 2/6, Postel Ground Chowpat...</td>\n",
       "      <td>Menu/418989.json</td>\n",
       "    </tr>\n",
       "    <tr>\n",
       "      <th>112817</th>\n",
       "      <td>447770</td>\n",
       "      <td>Lazeez kitchen</td>\n",
       "      <td>Yavatmal</td>\n",
       "      <td>0.0</td>\n",
       "      <td>5+</td>\n",
       "      <td>200.0</td>\n",
       "      <td>Pizzas</td>\n",
       "      <td>21521251000634</td>\n",
       "      <td>https://www.swiggy.com/restaurants/lazeez-kitc...</td>\n",
       "      <td>Lazeez Kitchen, 94G3+2Rr, Wadgaon, Yavatmal, M...</td>\n",
       "      <td>Menu/447770.json</td>\n",
       "    </tr>\n",
       "  </tbody>\n",
       "</table>\n",
       "<p>112818 rows × 11 columns</p>\n",
       "</div>"
      ],
      "text/plain": [
       "         ID.No                      NAME      CITY  RATING Rating_Count  \\\n",
       "0       567335            Ab foods point    Abohar     0.0           5+   \n",
       "1       531342         Janta sweet house    Abohar     4.4          50+   \n",
       "2       158203         Theka coffee desi    Abohar     3.8         100+   \n",
       "3       187912                 Singh hut    Abohar     3.7          20+   \n",
       "4       543530             Grill masters    Abohar     0.0           5+   \n",
       "...        ...                       ...       ...     ...          ...   \n",
       "112813  553122          The food delight  Yavatmal     0.0           5+   \n",
       "112814  562647  Maitri foods & beverages  Yavatmal     0.0           5+   \n",
       "112815  559435           Cafe bella ciao  Yavatmal     0.0           5+   \n",
       "112816  418989               Grill zilla  Yavatmal     0.0           5+   \n",
       "112817  447770            Lazeez kitchen  Yavatmal     0.0           5+   \n",
       "\n",
       "         COST                     CUISINE      License_No  \\\n",
       "0       200.0            Beverages,Pizzas  22122652000138   \n",
       "1       200.0               Sweets,Bakery  12117201000112   \n",
       "2       100.0                   Beverages  22121652000190   \n",
       "3       250.0            Fast Food,Indian  22119652000167   \n",
       "4       250.0  Italian-American,Fast Food  12122201000053   \n",
       "...       ...                         ...             ...   \n",
       "112813  200.0            Fast Food,Snacks  21522053000452   \n",
       "112814  300.0                      Pizzas         license   \n",
       "112815  300.0            Fast Food,Snacks  21522251000378   \n",
       "112816  250.0                 Continental  21521251000241   \n",
       "112817  200.0                      Pizzas  21521251000634   \n",
       "\n",
       "                                                     LINK  \\\n",
       "0       https://www.swiggy.com/restaurants/ab-foods-po...   \n",
       "1       https://www.swiggy.com/restaurants/janta-sweet...   \n",
       "2       https://www.swiggy.com/restaurants/theka-coffe...   \n",
       "3       https://www.swiggy.com/restaurants/singh-hut-n...   \n",
       "4       https://www.swiggy.com/restaurants/grill-maste...   \n",
       "...                                                   ...   \n",
       "112813  https://www.swiggy.com/restaurants/the-food-de...   \n",
       "112814  https://www.swiggy.com/restaurants/maitri-food...   \n",
       "112815  https://www.swiggy.com/restaurants/cafe-bella-...   \n",
       "112816  https://www.swiggy.com/restaurants/grill-zilla...   \n",
       "112817  https://www.swiggy.com/restaurants/lazeez-kitc...   \n",
       "\n",
       "                                                  ADDRESS              MENU  \n",
       "0       Ab Foods Point, Near Rishi Narang Dental Clini...  Menu/567335.json  \n",
       "1       Janta Sweet House, Bazar No.9, Circullar Road,...  Menu/531342.json  \n",
       "2              Theka Coffee Desi, Sahtiya Sadan Road City  Menu/158203.json  \n",
       "3         Singh Hut, Circular Road Near Nehru Park Abohar  Menu/187912.json  \n",
       "4       Grill Masters, Ada Heights, Abohar - Hanumanga...  Menu/543530.json  \n",
       "...                                                   ...               ...  \n",
       "112813  The Food Delight, 94Mc+X35, New Singhania Naga...  Menu/553122.json  \n",
       "112814  Maitri Foods & Beverages, Polic Mitrya Society...  Menu/562647.json  \n",
       "112815  Cafe Bella Ciao, Shop No 2 Nemani Market Sbi S...  Menu/559435.json  \n",
       "112816  Grill Zilla, Sho No 2/6, Postel Ground Chowpat...  Menu/418989.json  \n",
       "112817  Lazeez Kitchen, 94G3+2Rr, Wadgaon, Yavatmal, M...  Menu/447770.json  \n",
       "\n",
       "[112818 rows x 11 columns]"
      ]
     },
     "execution_count": 77,
     "metadata": {},
     "output_type": "execute_result"
    }
   ],
   "source": [
    "df2 = pd.read_csv(r'C:\\DATA SCIENCE\\PROJECT FOLDERS\\prj_restaurant_recommendation\\cleaned_df.csv')\n",
    "df2"
   ]
  },
  {
   "cell_type": "code",
   "execution_count": 78,
   "id": "e16cbcb0",
   "metadata": {},
   "outputs": [
    {
     "data": {
      "text/plain": [
       "Index(['ID.No', 'NAME', 'CITY', 'RATING', 'Rating_Count', 'COST', 'CUISINE',\n",
       "       'License_No', 'LINK', 'ADDRESS', 'MENU'],\n",
       "      dtype='object')"
      ]
     },
     "execution_count": 78,
     "metadata": {},
     "output_type": "execute_result"
    }
   ],
   "source": [
    "df2.columns"
   ]
  },
  {
   "cell_type": "code",
   "execution_count": 82,
   "id": "464029c8",
   "metadata": {},
   "outputs": [
    {
     "data": {
      "text/plain": [
       "array([5.e+00, 5.e+01, 1.e+02, 2.e+01, 5.e+02, 1.e+03, 5.e+03, 1.e+04])"
      ]
     },
     "execution_count": 82,
     "metadata": {},
     "output_type": "execute_result"
    }
   ],
   "source": [
    "df2['Rating_Count'].unique()"
   ]
  },
  {
   "cell_type": "code",
   "execution_count": 81,
   "id": "416e155e",
   "metadata": {},
   "outputs": [],
   "source": [
    "def convert_rating_count(value):\n",
    "    value = str(value).replace('+', '').strip().upper()\n",
    "    if 'K' in value:\n",
    "        return float(value.replace('K', '')) * 1000\n",
    "    else:\n",
    "        return float(value)\n",
    "\n",
    "# Apply the function to the column\n",
    "df2['Rating_Count'] = df2['Rating_Count'].apply(convert_rating_count)"
   ]
  },
  {
   "cell_type": "code",
   "execution_count": 84,
   "id": "8408e812",
   "metadata": {},
   "outputs": [
    {
     "data": {
      "text/plain": [
       "112813    5.0\n",
       "112814    5.0\n",
       "112815    5.0\n",
       "112816    5.0\n",
       "112817    5.0\n",
       "Name: Rating_Count, dtype: float64"
      ]
     },
     "execution_count": 84,
     "metadata": {},
     "output_type": "execute_result"
    }
   ],
   "source": [
    "df2['Rating_Count'].tail()"
   ]
  },
  {
   "cell_type": "code",
   "execution_count": 85,
   "id": "e6934a42",
   "metadata": {},
   "outputs": [],
   "source": [
    "df2['Rating_Count'] = df2['Rating_Count'].astype(int)"
   ]
  },
  {
   "cell_type": "code",
   "execution_count": 87,
   "id": "ba45db0a",
   "metadata": {},
   "outputs": [],
   "source": [
    "df2.to_csv(r'C:\\DATA SCIENCE\\PROJECT FOLDERS\\prj_restaurant_recommendation\\cleaned_df.csv',index = False)"
   ]
  }
 ],
 "metadata": {
  "kernelspec": {
   "display_name": "hotel_recommendation",
   "language": "python",
   "name": "python3"
  },
  "language_info": {
   "codemirror_mode": {
    "name": "ipython",
    "version": 3
   },
   "file_extension": ".py",
   "mimetype": "text/x-python",
   "name": "python",
   "nbconvert_exporter": "python",
   "pygments_lexer": "ipython3",
   "version": "3.12.8"
  }
 },
 "nbformat": 4,
 "nbformat_minor": 5
}
